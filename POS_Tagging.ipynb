{
  "nbformat": 4,
  "nbformat_minor": 0,
  "metadata": {
    "colab": {
      "provenance": [],
      "gpuType": "T4",
      "include_colab_link": true
    },
    "kernelspec": {
      "name": "python3",
      "display_name": "Python 3"
    },
    "language_info": {
      "name": "python"
    },
    "accelerator": "GPU",
    "widgets": {
      "application/vnd.jupyter.widget-state+json": {
        "35e2b13ad66246bc93b5eb4971a884eb": {
          "model_module": "@jupyter-widgets/controls",
          "model_name": "HBoxModel",
          "model_module_version": "1.5.0",
          "state": {
            "_dom_classes": [],
            "_model_module": "@jupyter-widgets/controls",
            "_model_module_version": "1.5.0",
            "_model_name": "HBoxModel",
            "_view_count": null,
            "_view_module": "@jupyter-widgets/controls",
            "_view_module_version": "1.5.0",
            "_view_name": "HBoxView",
            "box_style": "",
            "children": [
              "IPY_MODEL_bb509586c6ab4cd1b002a8d7a520d0a2",
              "IPY_MODEL_e29d28543f224e9ba8a01c750804f35a",
              "IPY_MODEL_dc55d10eee3b4992bf9d3d6bfd6acc94"
            ],
            "layout": "IPY_MODEL_ab4421183bec458ebb44165793932821"
          }
        },
        "bb509586c6ab4cd1b002a8d7a520d0a2": {
          "model_module": "@jupyter-widgets/controls",
          "model_name": "HTMLModel",
          "model_module_version": "1.5.0",
          "state": {
            "_dom_classes": [],
            "_model_module": "@jupyter-widgets/controls",
            "_model_module_version": "1.5.0",
            "_model_name": "HTMLModel",
            "_view_count": null,
            "_view_module": "@jupyter-widgets/controls",
            "_view_module_version": "1.5.0",
            "_view_name": "HTMLView",
            "description": "",
            "description_tooltip": null,
            "layout": "IPY_MODEL_b23e95778eda4f6f9bae7c1a4d98dadf",
            "placeholder": "​",
            "style": "IPY_MODEL_e02a742fff67450e801db6bdeb3ea7c3",
            "value": "tokenizer_config.json: 100%"
          }
        },
        "e29d28543f224e9ba8a01c750804f35a": {
          "model_module": "@jupyter-widgets/controls",
          "model_name": "FloatProgressModel",
          "model_module_version": "1.5.0",
          "state": {
            "_dom_classes": [],
            "_model_module": "@jupyter-widgets/controls",
            "_model_module_version": "1.5.0",
            "_model_name": "FloatProgressModel",
            "_view_count": null,
            "_view_module": "@jupyter-widgets/controls",
            "_view_module_version": "1.5.0",
            "_view_name": "ProgressView",
            "bar_style": "success",
            "description": "",
            "description_tooltip": null,
            "layout": "IPY_MODEL_68f653d2b09543dbb2f0b240f8b78565",
            "max": 48,
            "min": 0,
            "orientation": "horizontal",
            "style": "IPY_MODEL_6562d2a4aa674db5b3f78ffdba367050",
            "value": 48
          }
        },
        "dc55d10eee3b4992bf9d3d6bfd6acc94": {
          "model_module": "@jupyter-widgets/controls",
          "model_name": "HTMLModel",
          "model_module_version": "1.5.0",
          "state": {
            "_dom_classes": [],
            "_model_module": "@jupyter-widgets/controls",
            "_model_module_version": "1.5.0",
            "_model_name": "HTMLModel",
            "_view_count": null,
            "_view_module": "@jupyter-widgets/controls",
            "_view_module_version": "1.5.0",
            "_view_name": "HTMLView",
            "description": "",
            "description_tooltip": null,
            "layout": "IPY_MODEL_541ea7bd0e834371ace34aa6f751a4ca",
            "placeholder": "​",
            "style": "IPY_MODEL_b4ca94c3982e4b2e8974509d47991ecc",
            "value": " 48.0/48.0 [00:00&lt;00:00, 4.66kB/s]"
          }
        },
        "ab4421183bec458ebb44165793932821": {
          "model_module": "@jupyter-widgets/base",
          "model_name": "LayoutModel",
          "model_module_version": "1.2.0",
          "state": {
            "_model_module": "@jupyter-widgets/base",
            "_model_module_version": "1.2.0",
            "_model_name": "LayoutModel",
            "_view_count": null,
            "_view_module": "@jupyter-widgets/base",
            "_view_module_version": "1.2.0",
            "_view_name": "LayoutView",
            "align_content": null,
            "align_items": null,
            "align_self": null,
            "border": null,
            "bottom": null,
            "display": null,
            "flex": null,
            "flex_flow": null,
            "grid_area": null,
            "grid_auto_columns": null,
            "grid_auto_flow": null,
            "grid_auto_rows": null,
            "grid_column": null,
            "grid_gap": null,
            "grid_row": null,
            "grid_template_areas": null,
            "grid_template_columns": null,
            "grid_template_rows": null,
            "height": null,
            "justify_content": null,
            "justify_items": null,
            "left": null,
            "margin": null,
            "max_height": null,
            "max_width": null,
            "min_height": null,
            "min_width": null,
            "object_fit": null,
            "object_position": null,
            "order": null,
            "overflow": null,
            "overflow_x": null,
            "overflow_y": null,
            "padding": null,
            "right": null,
            "top": null,
            "visibility": null,
            "width": null
          }
        },
        "b23e95778eda4f6f9bae7c1a4d98dadf": {
          "model_module": "@jupyter-widgets/base",
          "model_name": "LayoutModel",
          "model_module_version": "1.2.0",
          "state": {
            "_model_module": "@jupyter-widgets/base",
            "_model_module_version": "1.2.0",
            "_model_name": "LayoutModel",
            "_view_count": null,
            "_view_module": "@jupyter-widgets/base",
            "_view_module_version": "1.2.0",
            "_view_name": "LayoutView",
            "align_content": null,
            "align_items": null,
            "align_self": null,
            "border": null,
            "bottom": null,
            "display": null,
            "flex": null,
            "flex_flow": null,
            "grid_area": null,
            "grid_auto_columns": null,
            "grid_auto_flow": null,
            "grid_auto_rows": null,
            "grid_column": null,
            "grid_gap": null,
            "grid_row": null,
            "grid_template_areas": null,
            "grid_template_columns": null,
            "grid_template_rows": null,
            "height": null,
            "justify_content": null,
            "justify_items": null,
            "left": null,
            "margin": null,
            "max_height": null,
            "max_width": null,
            "min_height": null,
            "min_width": null,
            "object_fit": null,
            "object_position": null,
            "order": null,
            "overflow": null,
            "overflow_x": null,
            "overflow_y": null,
            "padding": null,
            "right": null,
            "top": null,
            "visibility": null,
            "width": null
          }
        },
        "e02a742fff67450e801db6bdeb3ea7c3": {
          "model_module": "@jupyter-widgets/controls",
          "model_name": "DescriptionStyleModel",
          "model_module_version": "1.5.0",
          "state": {
            "_model_module": "@jupyter-widgets/controls",
            "_model_module_version": "1.5.0",
            "_model_name": "DescriptionStyleModel",
            "_view_count": null,
            "_view_module": "@jupyter-widgets/base",
            "_view_module_version": "1.2.0",
            "_view_name": "StyleView",
            "description_width": ""
          }
        },
        "68f653d2b09543dbb2f0b240f8b78565": {
          "model_module": "@jupyter-widgets/base",
          "model_name": "LayoutModel",
          "model_module_version": "1.2.0",
          "state": {
            "_model_module": "@jupyter-widgets/base",
            "_model_module_version": "1.2.0",
            "_model_name": "LayoutModel",
            "_view_count": null,
            "_view_module": "@jupyter-widgets/base",
            "_view_module_version": "1.2.0",
            "_view_name": "LayoutView",
            "align_content": null,
            "align_items": null,
            "align_self": null,
            "border": null,
            "bottom": null,
            "display": null,
            "flex": null,
            "flex_flow": null,
            "grid_area": null,
            "grid_auto_columns": null,
            "grid_auto_flow": null,
            "grid_auto_rows": null,
            "grid_column": null,
            "grid_gap": null,
            "grid_row": null,
            "grid_template_areas": null,
            "grid_template_columns": null,
            "grid_template_rows": null,
            "height": null,
            "justify_content": null,
            "justify_items": null,
            "left": null,
            "margin": null,
            "max_height": null,
            "max_width": null,
            "min_height": null,
            "min_width": null,
            "object_fit": null,
            "object_position": null,
            "order": null,
            "overflow": null,
            "overflow_x": null,
            "overflow_y": null,
            "padding": null,
            "right": null,
            "top": null,
            "visibility": null,
            "width": null
          }
        },
        "6562d2a4aa674db5b3f78ffdba367050": {
          "model_module": "@jupyter-widgets/controls",
          "model_name": "ProgressStyleModel",
          "model_module_version": "1.5.0",
          "state": {
            "_model_module": "@jupyter-widgets/controls",
            "_model_module_version": "1.5.0",
            "_model_name": "ProgressStyleModel",
            "_view_count": null,
            "_view_module": "@jupyter-widgets/base",
            "_view_module_version": "1.2.0",
            "_view_name": "StyleView",
            "bar_color": null,
            "description_width": ""
          }
        },
        "541ea7bd0e834371ace34aa6f751a4ca": {
          "model_module": "@jupyter-widgets/base",
          "model_name": "LayoutModel",
          "model_module_version": "1.2.0",
          "state": {
            "_model_module": "@jupyter-widgets/base",
            "_model_module_version": "1.2.0",
            "_model_name": "LayoutModel",
            "_view_count": null,
            "_view_module": "@jupyter-widgets/base",
            "_view_module_version": "1.2.0",
            "_view_name": "LayoutView",
            "align_content": null,
            "align_items": null,
            "align_self": null,
            "border": null,
            "bottom": null,
            "display": null,
            "flex": null,
            "flex_flow": null,
            "grid_area": null,
            "grid_auto_columns": null,
            "grid_auto_flow": null,
            "grid_auto_rows": null,
            "grid_column": null,
            "grid_gap": null,
            "grid_row": null,
            "grid_template_areas": null,
            "grid_template_columns": null,
            "grid_template_rows": null,
            "height": null,
            "justify_content": null,
            "justify_items": null,
            "left": null,
            "margin": null,
            "max_height": null,
            "max_width": null,
            "min_height": null,
            "min_width": null,
            "object_fit": null,
            "object_position": null,
            "order": null,
            "overflow": null,
            "overflow_x": null,
            "overflow_y": null,
            "padding": null,
            "right": null,
            "top": null,
            "visibility": null,
            "width": null
          }
        },
        "b4ca94c3982e4b2e8974509d47991ecc": {
          "model_module": "@jupyter-widgets/controls",
          "model_name": "DescriptionStyleModel",
          "model_module_version": "1.5.0",
          "state": {
            "_model_module": "@jupyter-widgets/controls",
            "_model_module_version": "1.5.0",
            "_model_name": "DescriptionStyleModel",
            "_view_count": null,
            "_view_module": "@jupyter-widgets/base",
            "_view_module_version": "1.2.0",
            "_view_name": "StyleView",
            "description_width": ""
          }
        },
        "fdd83f0756be4a598c1b1f6db1816382": {
          "model_module": "@jupyter-widgets/controls",
          "model_name": "HBoxModel",
          "model_module_version": "1.5.0",
          "state": {
            "_dom_classes": [],
            "_model_module": "@jupyter-widgets/controls",
            "_model_module_version": "1.5.0",
            "_model_name": "HBoxModel",
            "_view_count": null,
            "_view_module": "@jupyter-widgets/controls",
            "_view_module_version": "1.5.0",
            "_view_name": "HBoxView",
            "box_style": "",
            "children": [
              "IPY_MODEL_e3515a5aeaf8412380e13ea424f8864c",
              "IPY_MODEL_7b6699acfdc04d97a6085deb0a970d1d",
              "IPY_MODEL_b6005fd03bb1466fba227f2c94cdd6a9"
            ],
            "layout": "IPY_MODEL_2a9547fc59204057bb5a9615bbeb1eae"
          }
        },
        "e3515a5aeaf8412380e13ea424f8864c": {
          "model_module": "@jupyter-widgets/controls",
          "model_name": "HTMLModel",
          "model_module_version": "1.5.0",
          "state": {
            "_dom_classes": [],
            "_model_module": "@jupyter-widgets/controls",
            "_model_module_version": "1.5.0",
            "_model_name": "HTMLModel",
            "_view_count": null,
            "_view_module": "@jupyter-widgets/controls",
            "_view_module_version": "1.5.0",
            "_view_name": "HTMLView",
            "description": "",
            "description_tooltip": null,
            "layout": "IPY_MODEL_bbc1f81418724224af18b52e2e799330",
            "placeholder": "​",
            "style": "IPY_MODEL_b4beb20d46a24ec88e6378a0f42daf8f",
            "value": "vocab.txt: 100%"
          }
        },
        "7b6699acfdc04d97a6085deb0a970d1d": {
          "model_module": "@jupyter-widgets/controls",
          "model_name": "FloatProgressModel",
          "model_module_version": "1.5.0",
          "state": {
            "_dom_classes": [],
            "_model_module": "@jupyter-widgets/controls",
            "_model_module_version": "1.5.0",
            "_model_name": "FloatProgressModel",
            "_view_count": null,
            "_view_module": "@jupyter-widgets/controls",
            "_view_module_version": "1.5.0",
            "_view_name": "ProgressView",
            "bar_style": "success",
            "description": "",
            "description_tooltip": null,
            "layout": "IPY_MODEL_53ba2365c741437eb74d461c938a0601",
            "max": 231508,
            "min": 0,
            "orientation": "horizontal",
            "style": "IPY_MODEL_ff324ed9e7254453821f0315055f6f59",
            "value": 231508
          }
        },
        "b6005fd03bb1466fba227f2c94cdd6a9": {
          "model_module": "@jupyter-widgets/controls",
          "model_name": "HTMLModel",
          "model_module_version": "1.5.0",
          "state": {
            "_dom_classes": [],
            "_model_module": "@jupyter-widgets/controls",
            "_model_module_version": "1.5.0",
            "_model_name": "HTMLModel",
            "_view_count": null,
            "_view_module": "@jupyter-widgets/controls",
            "_view_module_version": "1.5.0",
            "_view_name": "HTMLView",
            "description": "",
            "description_tooltip": null,
            "layout": "IPY_MODEL_0fa0f60215604880b445adda486ca3c3",
            "placeholder": "​",
            "style": "IPY_MODEL_07887ef266754bbcb32a4814be0f1601",
            "value": " 232k/232k [00:00&lt;00:00, 1.98MB/s]"
          }
        },
        "2a9547fc59204057bb5a9615bbeb1eae": {
          "model_module": "@jupyter-widgets/base",
          "model_name": "LayoutModel",
          "model_module_version": "1.2.0",
          "state": {
            "_model_module": "@jupyter-widgets/base",
            "_model_module_version": "1.2.0",
            "_model_name": "LayoutModel",
            "_view_count": null,
            "_view_module": "@jupyter-widgets/base",
            "_view_module_version": "1.2.0",
            "_view_name": "LayoutView",
            "align_content": null,
            "align_items": null,
            "align_self": null,
            "border": null,
            "bottom": null,
            "display": null,
            "flex": null,
            "flex_flow": null,
            "grid_area": null,
            "grid_auto_columns": null,
            "grid_auto_flow": null,
            "grid_auto_rows": null,
            "grid_column": null,
            "grid_gap": null,
            "grid_row": null,
            "grid_template_areas": null,
            "grid_template_columns": null,
            "grid_template_rows": null,
            "height": null,
            "justify_content": null,
            "justify_items": null,
            "left": null,
            "margin": null,
            "max_height": null,
            "max_width": null,
            "min_height": null,
            "min_width": null,
            "object_fit": null,
            "object_position": null,
            "order": null,
            "overflow": null,
            "overflow_x": null,
            "overflow_y": null,
            "padding": null,
            "right": null,
            "top": null,
            "visibility": null,
            "width": null
          }
        },
        "bbc1f81418724224af18b52e2e799330": {
          "model_module": "@jupyter-widgets/base",
          "model_name": "LayoutModel",
          "model_module_version": "1.2.0",
          "state": {
            "_model_module": "@jupyter-widgets/base",
            "_model_module_version": "1.2.0",
            "_model_name": "LayoutModel",
            "_view_count": null,
            "_view_module": "@jupyter-widgets/base",
            "_view_module_version": "1.2.0",
            "_view_name": "LayoutView",
            "align_content": null,
            "align_items": null,
            "align_self": null,
            "border": null,
            "bottom": null,
            "display": null,
            "flex": null,
            "flex_flow": null,
            "grid_area": null,
            "grid_auto_columns": null,
            "grid_auto_flow": null,
            "grid_auto_rows": null,
            "grid_column": null,
            "grid_gap": null,
            "grid_row": null,
            "grid_template_areas": null,
            "grid_template_columns": null,
            "grid_template_rows": null,
            "height": null,
            "justify_content": null,
            "justify_items": null,
            "left": null,
            "margin": null,
            "max_height": null,
            "max_width": null,
            "min_height": null,
            "min_width": null,
            "object_fit": null,
            "object_position": null,
            "order": null,
            "overflow": null,
            "overflow_x": null,
            "overflow_y": null,
            "padding": null,
            "right": null,
            "top": null,
            "visibility": null,
            "width": null
          }
        },
        "b4beb20d46a24ec88e6378a0f42daf8f": {
          "model_module": "@jupyter-widgets/controls",
          "model_name": "DescriptionStyleModel",
          "model_module_version": "1.5.0",
          "state": {
            "_model_module": "@jupyter-widgets/controls",
            "_model_module_version": "1.5.0",
            "_model_name": "DescriptionStyleModel",
            "_view_count": null,
            "_view_module": "@jupyter-widgets/base",
            "_view_module_version": "1.2.0",
            "_view_name": "StyleView",
            "description_width": ""
          }
        },
        "53ba2365c741437eb74d461c938a0601": {
          "model_module": "@jupyter-widgets/base",
          "model_name": "LayoutModel",
          "model_module_version": "1.2.0",
          "state": {
            "_model_module": "@jupyter-widgets/base",
            "_model_module_version": "1.2.0",
            "_model_name": "LayoutModel",
            "_view_count": null,
            "_view_module": "@jupyter-widgets/base",
            "_view_module_version": "1.2.0",
            "_view_name": "LayoutView",
            "align_content": null,
            "align_items": null,
            "align_self": null,
            "border": null,
            "bottom": null,
            "display": null,
            "flex": null,
            "flex_flow": null,
            "grid_area": null,
            "grid_auto_columns": null,
            "grid_auto_flow": null,
            "grid_auto_rows": null,
            "grid_column": null,
            "grid_gap": null,
            "grid_row": null,
            "grid_template_areas": null,
            "grid_template_columns": null,
            "grid_template_rows": null,
            "height": null,
            "justify_content": null,
            "justify_items": null,
            "left": null,
            "margin": null,
            "max_height": null,
            "max_width": null,
            "min_height": null,
            "min_width": null,
            "object_fit": null,
            "object_position": null,
            "order": null,
            "overflow": null,
            "overflow_x": null,
            "overflow_y": null,
            "padding": null,
            "right": null,
            "top": null,
            "visibility": null,
            "width": null
          }
        },
        "ff324ed9e7254453821f0315055f6f59": {
          "model_module": "@jupyter-widgets/controls",
          "model_name": "ProgressStyleModel",
          "model_module_version": "1.5.0",
          "state": {
            "_model_module": "@jupyter-widgets/controls",
            "_model_module_version": "1.5.0",
            "_model_name": "ProgressStyleModel",
            "_view_count": null,
            "_view_module": "@jupyter-widgets/base",
            "_view_module_version": "1.2.0",
            "_view_name": "StyleView",
            "bar_color": null,
            "description_width": ""
          }
        },
        "0fa0f60215604880b445adda486ca3c3": {
          "model_module": "@jupyter-widgets/base",
          "model_name": "LayoutModel",
          "model_module_version": "1.2.0",
          "state": {
            "_model_module": "@jupyter-widgets/base",
            "_model_module_version": "1.2.0",
            "_model_name": "LayoutModel",
            "_view_count": null,
            "_view_module": "@jupyter-widgets/base",
            "_view_module_version": "1.2.0",
            "_view_name": "LayoutView",
            "align_content": null,
            "align_items": null,
            "align_self": null,
            "border": null,
            "bottom": null,
            "display": null,
            "flex": null,
            "flex_flow": null,
            "grid_area": null,
            "grid_auto_columns": null,
            "grid_auto_flow": null,
            "grid_auto_rows": null,
            "grid_column": null,
            "grid_gap": null,
            "grid_row": null,
            "grid_template_areas": null,
            "grid_template_columns": null,
            "grid_template_rows": null,
            "height": null,
            "justify_content": null,
            "justify_items": null,
            "left": null,
            "margin": null,
            "max_height": null,
            "max_width": null,
            "min_height": null,
            "min_width": null,
            "object_fit": null,
            "object_position": null,
            "order": null,
            "overflow": null,
            "overflow_x": null,
            "overflow_y": null,
            "padding": null,
            "right": null,
            "top": null,
            "visibility": null,
            "width": null
          }
        },
        "07887ef266754bbcb32a4814be0f1601": {
          "model_module": "@jupyter-widgets/controls",
          "model_name": "DescriptionStyleModel",
          "model_module_version": "1.5.0",
          "state": {
            "_model_module": "@jupyter-widgets/controls",
            "_model_module_version": "1.5.0",
            "_model_name": "DescriptionStyleModel",
            "_view_count": null,
            "_view_module": "@jupyter-widgets/base",
            "_view_module_version": "1.2.0",
            "_view_name": "StyleView",
            "description_width": ""
          }
        },
        "ffef9b8cdf4a47deac149a89644b506e": {
          "model_module": "@jupyter-widgets/controls",
          "model_name": "HBoxModel",
          "model_module_version": "1.5.0",
          "state": {
            "_dom_classes": [],
            "_model_module": "@jupyter-widgets/controls",
            "_model_module_version": "1.5.0",
            "_model_name": "HBoxModel",
            "_view_count": null,
            "_view_module": "@jupyter-widgets/controls",
            "_view_module_version": "1.5.0",
            "_view_name": "HBoxView",
            "box_style": "",
            "children": [
              "IPY_MODEL_4fc50309ca914d288793039ec2fed9f6",
              "IPY_MODEL_d7b5b492edd24899ae31f7f3086c12c8",
              "IPY_MODEL_4604353c16a848978f60762d44d74ed4"
            ],
            "layout": "IPY_MODEL_48895c06ac74432a9faa5ee72769b48c"
          }
        },
        "4fc50309ca914d288793039ec2fed9f6": {
          "model_module": "@jupyter-widgets/controls",
          "model_name": "HTMLModel",
          "model_module_version": "1.5.0",
          "state": {
            "_dom_classes": [],
            "_model_module": "@jupyter-widgets/controls",
            "_model_module_version": "1.5.0",
            "_model_name": "HTMLModel",
            "_view_count": null,
            "_view_module": "@jupyter-widgets/controls",
            "_view_module_version": "1.5.0",
            "_view_name": "HTMLView",
            "description": "",
            "description_tooltip": null,
            "layout": "IPY_MODEL_44cee2a72d824ba08431df4dcd763f06",
            "placeholder": "​",
            "style": "IPY_MODEL_4acbfd1ca070432fb817fbea40e1301f",
            "value": "tokenizer.json: 100%"
          }
        },
        "d7b5b492edd24899ae31f7f3086c12c8": {
          "model_module": "@jupyter-widgets/controls",
          "model_name": "FloatProgressModel",
          "model_module_version": "1.5.0",
          "state": {
            "_dom_classes": [],
            "_model_module": "@jupyter-widgets/controls",
            "_model_module_version": "1.5.0",
            "_model_name": "FloatProgressModel",
            "_view_count": null,
            "_view_module": "@jupyter-widgets/controls",
            "_view_module_version": "1.5.0",
            "_view_name": "ProgressView",
            "bar_style": "success",
            "description": "",
            "description_tooltip": null,
            "layout": "IPY_MODEL_6c1af33ecb5a4f588a8375d657157526",
            "max": 466062,
            "min": 0,
            "orientation": "horizontal",
            "style": "IPY_MODEL_b2d38b6152144c4dbe7f5df9f724fa34",
            "value": 466062
          }
        },
        "4604353c16a848978f60762d44d74ed4": {
          "model_module": "@jupyter-widgets/controls",
          "model_name": "HTMLModel",
          "model_module_version": "1.5.0",
          "state": {
            "_dom_classes": [],
            "_model_module": "@jupyter-widgets/controls",
            "_model_module_version": "1.5.0",
            "_model_name": "HTMLModel",
            "_view_count": null,
            "_view_module": "@jupyter-widgets/controls",
            "_view_module_version": "1.5.0",
            "_view_name": "HTMLView",
            "description": "",
            "description_tooltip": null,
            "layout": "IPY_MODEL_8cf77cd2b9db401d8a4ce30c7adb68e3",
            "placeholder": "​",
            "style": "IPY_MODEL_4d98627276b14776b0db55265462b83f",
            "value": " 466k/466k [00:00&lt;00:00, 7.06MB/s]"
          }
        },
        "48895c06ac74432a9faa5ee72769b48c": {
          "model_module": "@jupyter-widgets/base",
          "model_name": "LayoutModel",
          "model_module_version": "1.2.0",
          "state": {
            "_model_module": "@jupyter-widgets/base",
            "_model_module_version": "1.2.0",
            "_model_name": "LayoutModel",
            "_view_count": null,
            "_view_module": "@jupyter-widgets/base",
            "_view_module_version": "1.2.0",
            "_view_name": "LayoutView",
            "align_content": null,
            "align_items": null,
            "align_self": null,
            "border": null,
            "bottom": null,
            "display": null,
            "flex": null,
            "flex_flow": null,
            "grid_area": null,
            "grid_auto_columns": null,
            "grid_auto_flow": null,
            "grid_auto_rows": null,
            "grid_column": null,
            "grid_gap": null,
            "grid_row": null,
            "grid_template_areas": null,
            "grid_template_columns": null,
            "grid_template_rows": null,
            "height": null,
            "justify_content": null,
            "justify_items": null,
            "left": null,
            "margin": null,
            "max_height": null,
            "max_width": null,
            "min_height": null,
            "min_width": null,
            "object_fit": null,
            "object_position": null,
            "order": null,
            "overflow": null,
            "overflow_x": null,
            "overflow_y": null,
            "padding": null,
            "right": null,
            "top": null,
            "visibility": null,
            "width": null
          }
        },
        "44cee2a72d824ba08431df4dcd763f06": {
          "model_module": "@jupyter-widgets/base",
          "model_name": "LayoutModel",
          "model_module_version": "1.2.0",
          "state": {
            "_model_module": "@jupyter-widgets/base",
            "_model_module_version": "1.2.0",
            "_model_name": "LayoutModel",
            "_view_count": null,
            "_view_module": "@jupyter-widgets/base",
            "_view_module_version": "1.2.0",
            "_view_name": "LayoutView",
            "align_content": null,
            "align_items": null,
            "align_self": null,
            "border": null,
            "bottom": null,
            "display": null,
            "flex": null,
            "flex_flow": null,
            "grid_area": null,
            "grid_auto_columns": null,
            "grid_auto_flow": null,
            "grid_auto_rows": null,
            "grid_column": null,
            "grid_gap": null,
            "grid_row": null,
            "grid_template_areas": null,
            "grid_template_columns": null,
            "grid_template_rows": null,
            "height": null,
            "justify_content": null,
            "justify_items": null,
            "left": null,
            "margin": null,
            "max_height": null,
            "max_width": null,
            "min_height": null,
            "min_width": null,
            "object_fit": null,
            "object_position": null,
            "order": null,
            "overflow": null,
            "overflow_x": null,
            "overflow_y": null,
            "padding": null,
            "right": null,
            "top": null,
            "visibility": null,
            "width": null
          }
        },
        "4acbfd1ca070432fb817fbea40e1301f": {
          "model_module": "@jupyter-widgets/controls",
          "model_name": "DescriptionStyleModel",
          "model_module_version": "1.5.0",
          "state": {
            "_model_module": "@jupyter-widgets/controls",
            "_model_module_version": "1.5.0",
            "_model_name": "DescriptionStyleModel",
            "_view_count": null,
            "_view_module": "@jupyter-widgets/base",
            "_view_module_version": "1.2.0",
            "_view_name": "StyleView",
            "description_width": ""
          }
        },
        "6c1af33ecb5a4f588a8375d657157526": {
          "model_module": "@jupyter-widgets/base",
          "model_name": "LayoutModel",
          "model_module_version": "1.2.0",
          "state": {
            "_model_module": "@jupyter-widgets/base",
            "_model_module_version": "1.2.0",
            "_model_name": "LayoutModel",
            "_view_count": null,
            "_view_module": "@jupyter-widgets/base",
            "_view_module_version": "1.2.0",
            "_view_name": "LayoutView",
            "align_content": null,
            "align_items": null,
            "align_self": null,
            "border": null,
            "bottom": null,
            "display": null,
            "flex": null,
            "flex_flow": null,
            "grid_area": null,
            "grid_auto_columns": null,
            "grid_auto_flow": null,
            "grid_auto_rows": null,
            "grid_column": null,
            "grid_gap": null,
            "grid_row": null,
            "grid_template_areas": null,
            "grid_template_columns": null,
            "grid_template_rows": null,
            "height": null,
            "justify_content": null,
            "justify_items": null,
            "left": null,
            "margin": null,
            "max_height": null,
            "max_width": null,
            "min_height": null,
            "min_width": null,
            "object_fit": null,
            "object_position": null,
            "order": null,
            "overflow": null,
            "overflow_x": null,
            "overflow_y": null,
            "padding": null,
            "right": null,
            "top": null,
            "visibility": null,
            "width": null
          }
        },
        "b2d38b6152144c4dbe7f5df9f724fa34": {
          "model_module": "@jupyter-widgets/controls",
          "model_name": "ProgressStyleModel",
          "model_module_version": "1.5.0",
          "state": {
            "_model_module": "@jupyter-widgets/controls",
            "_model_module_version": "1.5.0",
            "_model_name": "ProgressStyleModel",
            "_view_count": null,
            "_view_module": "@jupyter-widgets/base",
            "_view_module_version": "1.2.0",
            "_view_name": "StyleView",
            "bar_color": null,
            "description_width": ""
          }
        },
        "8cf77cd2b9db401d8a4ce30c7adb68e3": {
          "model_module": "@jupyter-widgets/base",
          "model_name": "LayoutModel",
          "model_module_version": "1.2.0",
          "state": {
            "_model_module": "@jupyter-widgets/base",
            "_model_module_version": "1.2.0",
            "_model_name": "LayoutModel",
            "_view_count": null,
            "_view_module": "@jupyter-widgets/base",
            "_view_module_version": "1.2.0",
            "_view_name": "LayoutView",
            "align_content": null,
            "align_items": null,
            "align_self": null,
            "border": null,
            "bottom": null,
            "display": null,
            "flex": null,
            "flex_flow": null,
            "grid_area": null,
            "grid_auto_columns": null,
            "grid_auto_flow": null,
            "grid_auto_rows": null,
            "grid_column": null,
            "grid_gap": null,
            "grid_row": null,
            "grid_template_areas": null,
            "grid_template_columns": null,
            "grid_template_rows": null,
            "height": null,
            "justify_content": null,
            "justify_items": null,
            "left": null,
            "margin": null,
            "max_height": null,
            "max_width": null,
            "min_height": null,
            "min_width": null,
            "object_fit": null,
            "object_position": null,
            "order": null,
            "overflow": null,
            "overflow_x": null,
            "overflow_y": null,
            "padding": null,
            "right": null,
            "top": null,
            "visibility": null,
            "width": null
          }
        },
        "4d98627276b14776b0db55265462b83f": {
          "model_module": "@jupyter-widgets/controls",
          "model_name": "DescriptionStyleModel",
          "model_module_version": "1.5.0",
          "state": {
            "_model_module": "@jupyter-widgets/controls",
            "_model_module_version": "1.5.0",
            "_model_name": "DescriptionStyleModel",
            "_view_count": null,
            "_view_module": "@jupyter-widgets/base",
            "_view_module_version": "1.2.0",
            "_view_name": "StyleView",
            "description_width": ""
          }
        },
        "34aa956813bf4cd0b71d584b96cdbc36": {
          "model_module": "@jupyter-widgets/controls",
          "model_name": "HBoxModel",
          "model_module_version": "1.5.0",
          "state": {
            "_dom_classes": [],
            "_model_module": "@jupyter-widgets/controls",
            "_model_module_version": "1.5.0",
            "_model_name": "HBoxModel",
            "_view_count": null,
            "_view_module": "@jupyter-widgets/controls",
            "_view_module_version": "1.5.0",
            "_view_name": "HBoxView",
            "box_style": "",
            "children": [
              "IPY_MODEL_c3cc7d7710e44716aecd9fb7d5413f3e",
              "IPY_MODEL_8ce52d3940e84f73b10b179668c50925",
              "IPY_MODEL_cfe6a6eee2b94493b602a4a6a99af0ed"
            ],
            "layout": "IPY_MODEL_1284d106cab1476ea0ffb190e4d0e998"
          }
        },
        "c3cc7d7710e44716aecd9fb7d5413f3e": {
          "model_module": "@jupyter-widgets/controls",
          "model_name": "HTMLModel",
          "model_module_version": "1.5.0",
          "state": {
            "_dom_classes": [],
            "_model_module": "@jupyter-widgets/controls",
            "_model_module_version": "1.5.0",
            "_model_name": "HTMLModel",
            "_view_count": null,
            "_view_module": "@jupyter-widgets/controls",
            "_view_module_version": "1.5.0",
            "_view_name": "HTMLView",
            "description": "",
            "description_tooltip": null,
            "layout": "IPY_MODEL_a43bff3bf34a47d58ebdf154b747c104",
            "placeholder": "​",
            "style": "IPY_MODEL_efe6bd21da2b4d118bb871743f0b5da0",
            "value": "config.json: 100%"
          }
        },
        "8ce52d3940e84f73b10b179668c50925": {
          "model_module": "@jupyter-widgets/controls",
          "model_name": "FloatProgressModel",
          "model_module_version": "1.5.0",
          "state": {
            "_dom_classes": [],
            "_model_module": "@jupyter-widgets/controls",
            "_model_module_version": "1.5.0",
            "_model_name": "FloatProgressModel",
            "_view_count": null,
            "_view_module": "@jupyter-widgets/controls",
            "_view_module_version": "1.5.0",
            "_view_name": "ProgressView",
            "bar_style": "success",
            "description": "",
            "description_tooltip": null,
            "layout": "IPY_MODEL_1930e68954194e8db266154353c3b83a",
            "max": 570,
            "min": 0,
            "orientation": "horizontal",
            "style": "IPY_MODEL_51dc7f7cf6724a909b7ca1483b1c0039",
            "value": 570
          }
        },
        "cfe6a6eee2b94493b602a4a6a99af0ed": {
          "model_module": "@jupyter-widgets/controls",
          "model_name": "HTMLModel",
          "model_module_version": "1.5.0",
          "state": {
            "_dom_classes": [],
            "_model_module": "@jupyter-widgets/controls",
            "_model_module_version": "1.5.0",
            "_model_name": "HTMLModel",
            "_view_count": null,
            "_view_module": "@jupyter-widgets/controls",
            "_view_module_version": "1.5.0",
            "_view_name": "HTMLView",
            "description": "",
            "description_tooltip": null,
            "layout": "IPY_MODEL_7b982d90144b446d80d2ea5e8ec76339",
            "placeholder": "​",
            "style": "IPY_MODEL_7e8ac338a416471f9fbadf5f73307a38",
            "value": " 570/570 [00:00&lt;00:00, 55.0kB/s]"
          }
        },
        "1284d106cab1476ea0ffb190e4d0e998": {
          "model_module": "@jupyter-widgets/base",
          "model_name": "LayoutModel",
          "model_module_version": "1.2.0",
          "state": {
            "_model_module": "@jupyter-widgets/base",
            "_model_module_version": "1.2.0",
            "_model_name": "LayoutModel",
            "_view_count": null,
            "_view_module": "@jupyter-widgets/base",
            "_view_module_version": "1.2.0",
            "_view_name": "LayoutView",
            "align_content": null,
            "align_items": null,
            "align_self": null,
            "border": null,
            "bottom": null,
            "display": null,
            "flex": null,
            "flex_flow": null,
            "grid_area": null,
            "grid_auto_columns": null,
            "grid_auto_flow": null,
            "grid_auto_rows": null,
            "grid_column": null,
            "grid_gap": null,
            "grid_row": null,
            "grid_template_areas": null,
            "grid_template_columns": null,
            "grid_template_rows": null,
            "height": null,
            "justify_content": null,
            "justify_items": null,
            "left": null,
            "margin": null,
            "max_height": null,
            "max_width": null,
            "min_height": null,
            "min_width": null,
            "object_fit": null,
            "object_position": null,
            "order": null,
            "overflow": null,
            "overflow_x": null,
            "overflow_y": null,
            "padding": null,
            "right": null,
            "top": null,
            "visibility": null,
            "width": null
          }
        },
        "a43bff3bf34a47d58ebdf154b747c104": {
          "model_module": "@jupyter-widgets/base",
          "model_name": "LayoutModel",
          "model_module_version": "1.2.0",
          "state": {
            "_model_module": "@jupyter-widgets/base",
            "_model_module_version": "1.2.0",
            "_model_name": "LayoutModel",
            "_view_count": null,
            "_view_module": "@jupyter-widgets/base",
            "_view_module_version": "1.2.0",
            "_view_name": "LayoutView",
            "align_content": null,
            "align_items": null,
            "align_self": null,
            "border": null,
            "bottom": null,
            "display": null,
            "flex": null,
            "flex_flow": null,
            "grid_area": null,
            "grid_auto_columns": null,
            "grid_auto_flow": null,
            "grid_auto_rows": null,
            "grid_column": null,
            "grid_gap": null,
            "grid_row": null,
            "grid_template_areas": null,
            "grid_template_columns": null,
            "grid_template_rows": null,
            "height": null,
            "justify_content": null,
            "justify_items": null,
            "left": null,
            "margin": null,
            "max_height": null,
            "max_width": null,
            "min_height": null,
            "min_width": null,
            "object_fit": null,
            "object_position": null,
            "order": null,
            "overflow": null,
            "overflow_x": null,
            "overflow_y": null,
            "padding": null,
            "right": null,
            "top": null,
            "visibility": null,
            "width": null
          }
        },
        "efe6bd21da2b4d118bb871743f0b5da0": {
          "model_module": "@jupyter-widgets/controls",
          "model_name": "DescriptionStyleModel",
          "model_module_version": "1.5.0",
          "state": {
            "_model_module": "@jupyter-widgets/controls",
            "_model_module_version": "1.5.0",
            "_model_name": "DescriptionStyleModel",
            "_view_count": null,
            "_view_module": "@jupyter-widgets/base",
            "_view_module_version": "1.2.0",
            "_view_name": "StyleView",
            "description_width": ""
          }
        },
        "1930e68954194e8db266154353c3b83a": {
          "model_module": "@jupyter-widgets/base",
          "model_name": "LayoutModel",
          "model_module_version": "1.2.0",
          "state": {
            "_model_module": "@jupyter-widgets/base",
            "_model_module_version": "1.2.0",
            "_model_name": "LayoutModel",
            "_view_count": null,
            "_view_module": "@jupyter-widgets/base",
            "_view_module_version": "1.2.0",
            "_view_name": "LayoutView",
            "align_content": null,
            "align_items": null,
            "align_self": null,
            "border": null,
            "bottom": null,
            "display": null,
            "flex": null,
            "flex_flow": null,
            "grid_area": null,
            "grid_auto_columns": null,
            "grid_auto_flow": null,
            "grid_auto_rows": null,
            "grid_column": null,
            "grid_gap": null,
            "grid_row": null,
            "grid_template_areas": null,
            "grid_template_columns": null,
            "grid_template_rows": null,
            "height": null,
            "justify_content": null,
            "justify_items": null,
            "left": null,
            "margin": null,
            "max_height": null,
            "max_width": null,
            "min_height": null,
            "min_width": null,
            "object_fit": null,
            "object_position": null,
            "order": null,
            "overflow": null,
            "overflow_x": null,
            "overflow_y": null,
            "padding": null,
            "right": null,
            "top": null,
            "visibility": null,
            "width": null
          }
        },
        "51dc7f7cf6724a909b7ca1483b1c0039": {
          "model_module": "@jupyter-widgets/controls",
          "model_name": "ProgressStyleModel",
          "model_module_version": "1.5.0",
          "state": {
            "_model_module": "@jupyter-widgets/controls",
            "_model_module_version": "1.5.0",
            "_model_name": "ProgressStyleModel",
            "_view_count": null,
            "_view_module": "@jupyter-widgets/base",
            "_view_module_version": "1.2.0",
            "_view_name": "StyleView",
            "bar_color": null,
            "description_width": ""
          }
        },
        "7b982d90144b446d80d2ea5e8ec76339": {
          "model_module": "@jupyter-widgets/base",
          "model_name": "LayoutModel",
          "model_module_version": "1.2.0",
          "state": {
            "_model_module": "@jupyter-widgets/base",
            "_model_module_version": "1.2.0",
            "_model_name": "LayoutModel",
            "_view_count": null,
            "_view_module": "@jupyter-widgets/base",
            "_view_module_version": "1.2.0",
            "_view_name": "LayoutView",
            "align_content": null,
            "align_items": null,
            "align_self": null,
            "border": null,
            "bottom": null,
            "display": null,
            "flex": null,
            "flex_flow": null,
            "grid_area": null,
            "grid_auto_columns": null,
            "grid_auto_flow": null,
            "grid_auto_rows": null,
            "grid_column": null,
            "grid_gap": null,
            "grid_row": null,
            "grid_template_areas": null,
            "grid_template_columns": null,
            "grid_template_rows": null,
            "height": null,
            "justify_content": null,
            "justify_items": null,
            "left": null,
            "margin": null,
            "max_height": null,
            "max_width": null,
            "min_height": null,
            "min_width": null,
            "object_fit": null,
            "object_position": null,
            "order": null,
            "overflow": null,
            "overflow_x": null,
            "overflow_y": null,
            "padding": null,
            "right": null,
            "top": null,
            "visibility": null,
            "width": null
          }
        },
        "7e8ac338a416471f9fbadf5f73307a38": {
          "model_module": "@jupyter-widgets/controls",
          "model_name": "DescriptionStyleModel",
          "model_module_version": "1.5.0",
          "state": {
            "_model_module": "@jupyter-widgets/controls",
            "_model_module_version": "1.5.0",
            "_model_name": "DescriptionStyleModel",
            "_view_count": null,
            "_view_module": "@jupyter-widgets/base",
            "_view_module_version": "1.2.0",
            "_view_name": "StyleView",
            "description_width": ""
          }
        }
      }
    }
  },
  "cells": [
    {
      "cell_type": "markdown",
      "metadata": {
        "id": "view-in-github",
        "colab_type": "text"
      },
      "source": [
        "<a href=\"https://colab.research.google.com/github/diliprc96/POS_Tagging/blob/main/POS_Tagging.ipynb\" target=\"_parent\"><img src=\"https://colab.research.google.com/assets/colab-badge.svg\" alt=\"Open In Colab\"/></a>"
      ]
    },
    {
      "cell_type": "code",
      "source": [
        "from google.colab import drive\n",
        "drive.mount('/content/drive')"
      ],
      "metadata": {
        "id": "WPMZzbPQbv1r",
        "outputId": "fad1433c-ac05-4dc6-ec65-5567f6e791c0",
        "colab": {
          "base_uri": "https://localhost:8080/"
        }
      },
      "execution_count": 1,
      "outputs": [
        {
          "output_type": "stream",
          "name": "stdout",
          "text": [
            "Mounted at /content/drive\n"
          ]
        }
      ]
    },
    {
      "cell_type": "code",
      "source": [
        "!unzip /content/drive/MyDrive/POS_Tagging/DATASET_POS.zip\n",
        "!unzip /content/drive/MyDrive/POS_Tagging/glove.6B.100d.txt.zip"
      ],
      "metadata": {
        "id": "Q_gqkevfqyxM",
        "outputId": "65658ea9-bfb7-4899-a11a-aa4dd8ff19e0",
        "colab": {
          "base_uri": "https://localhost:8080/"
        }
      },
      "execution_count": 2,
      "outputs": [
        {
          "output_type": "stream",
          "name": "stdout",
          "text": [
            "Archive:  /content/drive/MyDrive/POS_Tagging/DATASET_POS.zip\n",
            "  inflating: Dataset_POS/WSJ_test.pos  \n",
            "  inflating: Dataset_POS/WSJ_train.pos  \n",
            "Archive:  /content/drive/MyDrive/POS_Tagging/glove.6B.100d.txt.zip\n",
            "  inflating: glove.6B.100d.txt       \n"
          ]
        }
      ]
    },
    {
      "cell_type": "code",
      "source": [
        "# Importing Libraries\n",
        "import os\n",
        "import re\n",
        "import numpy as np\n",
        "import pandas as pd\n",
        "import matplotlib.pyplot as plt\n",
        "from collections import defaultdict\n",
        "import tensorflow as tf\n",
        "from sklearn.model_selection import train_test_split\n",
        "from tensorflow.keras.preprocessing.sequence import pad_sequences\n",
        "from tensorflow.keras import Sequential\n",
        "from tensorflow.keras.layers import Embedding, LSTM, Dense, TimeDistributed, Bidirectional\n",
        "from transformers import BertTokenizer, TFBertModel\n",
        "import importlib.util\n",
        "from tensorflow.keras.callbacks import EarlyStopping\n",
        "\n",
        "# Check Import Modules\n",
        "def check_import(module_name):\n",
        "    if importlib.util.find_spec(module_name) is not None:\n",
        "        print(f\"{module_name} ✅ Imported Successfully\")\n",
        "    else:\n",
        "        print(f\"{module_name} ❌ Not Installed\")\n",
        "\n",
        "modules = ['os', 'numpy', 'pandas', 'matplotlib', 'sklearn', 'tensorflow', 'transformers']\n",
        "for module in modules:\n",
        "    check_import(module)"
      ],
      "metadata": {
        "id": "pv2MRfh1UUQL",
        "outputId": "5bd9dc6c-1372-4f6b-febd-e644a9aea825",
        "colab": {
          "base_uri": "https://localhost:8080/"
        }
      },
      "execution_count": 3,
      "outputs": [
        {
          "output_type": "stream",
          "name": "stdout",
          "text": [
            "os ✅ Imported Successfully\n",
            "numpy ✅ Imported Successfully\n",
            "pandas ✅ Imported Successfully\n",
            "matplotlib ✅ Imported Successfully\n",
            "sklearn ✅ Imported Successfully\n",
            "tensorflow ✅ Imported Successfully\n",
            "transformers ✅ Imported Successfully\n"
          ]
        }
      ]
    },
    {
      "cell_type": "code",
      "execution_count": 4,
      "metadata": {
        "id": "BcjNZFlBQvCD"
      },
      "outputs": [],
      "source": [
        "# Load Dataset\n",
        "def load_data(file_path):\n",
        "    if not os.path.exists(file_path):\n",
        "        print(f\"File Not Found: {file_path}\")\n",
        "        return None\n",
        "    sentences, sentence = [], []\n",
        "    for line in open(file_path, 'r'):\n",
        "        line = line.strip()\n",
        "        if line == \"\":\n",
        "            if sentence:\n",
        "                sentences.append(sentence)\n",
        "                sentence = []\n",
        "        else:\n",
        "            try:\n",
        "                word, tag = line.split()\n",
        "                sentence.append((word, tag))\n",
        "            except ValueError:\n",
        "                continue\n",
        "    if sentence:\n",
        "        sentences.append(sentence)\n",
        "    return sentences\n",
        "\n",
        "# Dataset Path\n",
        "dataset_folder = \"/content/Dataset_POS\"\n",
        "\n",
        "train_data = load_data(os.path.join(dataset_folder, 'WSJ_train.pos'))\n",
        "test_data = load_data(os.path.join(dataset_folder, 'WSJ_test.pos'))"
      ]
    },
    {
      "cell_type": "code",
      "source": [
        "# Sentence Length Distribution\n",
        "sentence_lengths = [len(sentence) for sentence in train_data]\n",
        "plt.figure(figsize=(10, 6))\n",
        "plt.hist(sentence_lengths, bins=30, color='skyblue', edgecolor='black')\n",
        "plt.title('Sentence Length Distribution Train data')\n",
        "plt.xlabel('Sentence Length')\n",
        "plt.ylabel('Frequency')\n",
        "plt.grid(True)\n",
        "plt.show()\n",
        "\n",
        "sentence_lengths = [len(sentence) for sentence in test_data]\n",
        "plt.figure(figsize=(10, 6))\n",
        "plt.hist(sentence_lengths, bins=30, color='skyblue', edgecolor='black')\n",
        "plt.title('Sentence Length Distribution Test data')\n",
        "plt.xlabel('Sentence Length')\n",
        "plt.ylabel('Frequency')\n",
        "plt.grid(True)\n",
        "plt.show()"
      ],
      "metadata": {
        "id": "HA6HkgzHWAcy",
        "outputId": "fcb2fab6-1b30-40b1-e5da-a97c70723927",
        "colab": {
          "base_uri": "https://localhost:8080/",
          "height": 1000
        }
      },
      "execution_count": 5,
      "outputs": [
        {
          "output_type": "display_data",
          "data": {
            "text/plain": [
              "<Figure size 1000x600 with 1 Axes>"
            ],
            "image/png": "[encoded data removed]"
          },
          "metadata": {}
        },
        {
          "output_type": "display_data",
          "data": {
            "text/plain": [
              "<Figure size 1000x600 with 1 Axes>"
            ],
            "image/png": "[encoded data removed]"
          },
          "metadata": {}
        }
      ]
    },
    {
      "cell_type": "code",
      "source": [
        "# Build Vocabulary\n",
        "word_counts = defaultdict(int)\n",
        "tags = set()\n",
        "for sentence in train_data:\n",
        "    for word, tag in sentence:\n",
        "        word_counts[word.lower()] += 1\n",
        "        tags.add(tag)\n",
        "\n",
        "vocab = {word: idx + 1 for idx, word in enumerate(word_counts.keys())}\n",
        "vocab['<PAD>'] = 0\n",
        "index_to_word = {idx: word for word, idx in vocab.items()}\n",
        "\n",
        "tag_to_index = {tag: idx + 1 for idx, tag in enumerate(sorted(tags))}\n",
        "tag_to_index['O'] = 0  # Default tag\n",
        "\n",
        "# Tokenizer\n",
        "bert_tokenizer = BertTokenizer.from_pretrained(\"bert-base-uncased\")\n",
        "MAX_LEN = max([len(sentence) for sentence in train_data])"
      ],
      "metadata": {
        "id": "pWQ7G8IsrwIv",
        "outputId": "3581c754-0d3c-44aa-f350-b6ee91fd52d0",
        "colab": {
          "base_uri": "https://localhost:8080/",
          "height": 274,
          "referenced_widgets": [
            "35e2b13ad66246bc93b5eb4971a884eb",
            "bb509586c6ab4cd1b002a8d7a520d0a2",
            "e29d28543f224e9ba8a01c750804f35a",
            "dc55d10eee3b4992bf9d3d6bfd6acc94",
            "ab4421183bec458ebb44165793932821",
            "b23e95778eda4f6f9bae7c1a4d98dadf",
            "e02a742fff67450e801db6bdeb3ea7c3",
            "68f653d2b09543dbb2f0b240f8b78565",
            "6562d2a4aa674db5b3f78ffdba367050",
            "541ea7bd0e834371ace34aa6f751a4ca",
            "b4ca94c3982e4b2e8974509d47991ecc",
            "fdd83f0756be4a598c1b1f6db1816382",
            "e3515a5aeaf8412380e13ea424f8864c",
            "7b6699acfdc04d97a6085deb0a970d1d",
            "b6005fd03bb1466fba227f2c94cdd6a9",
            "2a9547fc59204057bb5a9615bbeb1eae",
            "bbc1f81418724224af18b52e2e799330",
            "b4beb20d46a24ec88e6378a0f42daf8f",
            "53ba2365c741437eb74d461c938a0601",
            "ff324ed9e7254453821f0315055f6f59",
            "0fa0f60215604880b445adda486ca3c3",
            "07887ef266754bbcb32a4814be0f1601",
            "ffef9b8cdf4a47deac149a89644b506e",
            "4fc50309ca914d288793039ec2fed9f6",
            "d7b5b492edd24899ae31f7f3086c12c8",
            "4604353c16a848978f60762d44d74ed4",
            "48895c06ac74432a9faa5ee72769b48c",
            "44cee2a72d824ba08431df4dcd763f06",
            "4acbfd1ca070432fb817fbea40e1301f",
            "6c1af33ecb5a4f588a8375d657157526",
            "b2d38b6152144c4dbe7f5df9f724fa34",
            "8cf77cd2b9db401d8a4ce30c7adb68e3",
            "4d98627276b14776b0db55265462b83f",
            "34aa956813bf4cd0b71d584b96cdbc36",
            "c3cc7d7710e44716aecd9fb7d5413f3e",
            "8ce52d3940e84f73b10b179668c50925",
            "cfe6a6eee2b94493b602a4a6a99af0ed",
            "1284d106cab1476ea0ffb190e4d0e998",
            "a43bff3bf34a47d58ebdf154b747c104",
            "efe6bd21da2b4d118bb871743f0b5da0",
            "1930e68954194e8db266154353c3b83a",
            "51dc7f7cf6724a909b7ca1483b1c0039",
            "7b982d90144b446d80d2ea5e8ec76339",
            "7e8ac338a416471f9fbadf5f73307a38"
          ]
        }
      },
      "execution_count": 6,
      "outputs": [
        {
          "output_type": "stream",
          "name": "stderr",
          "text": [
            "/usr/local/lib/python3.11/dist-packages/huggingface_hub/utils/_auth.py:94: UserWarning: \n",
            "The secret `HF_TOKEN` does not exist in your Colab secrets.\n",
            "To authenticate with the Hugging Face Hub, create a token in your settings tab (https://huggingface.co/settings/tokens), set it as secret in your Google Colab and restart your session.\n",
            "You will be able to reuse this secret in all of your notebooks.\n",
            "Please note that authentication is recommended but still optional to access public models or datasets.\n",
            "  warnings.warn(\n"
          ]
        },
        {
          "output_type": "display_data",
          "data": {
            "text/plain": [
              "tokenizer_config.json:   0%|          | 0.00/48.0 [00:00<?, ?B/s]"
            ],
            "application/vnd.jupyter.widget-view+json": {
              "version_major": 2,
              "version_minor": 0,
              "model_id": "35e2b13ad66246bc93b5eb4971a884eb"
            }
          },
          "metadata": {}
        },
        {
          "output_type": "display_data",
          "data": {
            "text/plain": [
              "vocab.txt:   0%|          | 0.00/232k [00:00<?, ?B/s]"
            ],
            "application/vnd.jupyter.widget-view+json": {
              "version_major": 2,
              "version_minor": 0,
              "model_id": "fdd83f0756be4a598c1b1f6db1816382"
            }
          },
          "metadata": {}
        },
        {
          "output_type": "display_data",
          "data": {
            "text/plain": [
              "tokenizer.json:   0%|          | 0.00/466k [00:00<?, ?B/s]"
            ],
            "application/vnd.jupyter.widget-view+json": {
              "version_major": 2,
              "version_minor": 0,
              "model_id": "ffef9b8cdf4a47deac149a89644b506e"
            }
          },
          "metadata": {}
        },
        {
          "output_type": "display_data",
          "data": {
            "text/plain": [
              "config.json:   0%|          | 0.00/570 [00:00<?, ?B/s]"
            ],
            "application/vnd.jupyter.widget-view+json": {
              "version_major": 2,
              "version_minor": 0,
              "model_id": "34aa956813bf4cd0b71d584b96cdbc36"
            }
          },
          "metadata": {}
        }
      ]
    },
    {
      "cell_type": "code",
      "source": [
        "# Normalize text function\n",
        "def normalize_text(text):\n",
        "    \"\"\"Normalizes text by lowercasing, handling numbers, and dates.\"\"\"\n",
        "    text = text.lower()  # Lowercase the text\n",
        "\n",
        "    # Replace numbers with a special token\n",
        "    text = re.sub(r'\\d+', '<NUM>', text)\n",
        "\n",
        "    # Replace dates with a special token\n",
        "    text = re.sub(r'\\d{2}/\\d{2}/\\d{4}', '<DATE>', text)\n",
        "    text = re.sub(r'\\d{4}-\\d{2}-\\d{2}', '<DATE>', text)\n",
        "\n",
        "\n",
        "    # punctuation marks tokenized as their own tokens\n",
        "    text = re.sub(r'[^\\w\\s]', ' <PUNCT> ', text)\n",
        "\n",
        "    return text\n",
        "\n",
        "# Prepare data function that tokenizes using both BERT and GloVe\n",
        "def prepare_data(sentences, vocab, tokenizer, max_len):\n",
        "    X_bert, X_glove, y, attention_masks = [], [], [], []\n",
        "    for sentence in sentences:\n",
        "        words = [word for word, tag in sentence]\n",
        "        tags = [tag_to_index[tag] for word, tag in sentence]\n",
        "\n",
        "        # Normalize words before tokenization\n",
        "        normalized_words = [normalize_text(word) for word in words]\n",
        "\n",
        "        # BERT Tokenization\n",
        "        tokens = tokenizer(normalized_words,\n",
        "                           padding=True,\n",
        "                           truncation=True,\n",
        "                           max_length=max_len,\n",
        "                           is_split_into_words=True,\n",
        "                           return_attention_mask=True)\n",
        "        X_bert.append(tokens['input_ids'])\n",
        "        attention_masks.append(tokens['attention_mask'])\n",
        "\n",
        "        # GloVe Tokenization (using vocab created from GloVe embeddings)\n",
        "        X_glove.append([vocab.get(word.lower(), 1) for word in normalized_words])\n",
        "\n",
        "        y.append(tags)\n",
        "\n",
        "    # Padding sequences for both BERT and GloVe inputs and the tags\n",
        "    X_bert = pad_sequences(X_bert, maxlen=max_len, padding='post', value=0)\n",
        "    attention_masks = pad_sequences(attention_masks, maxlen=max_len, padding='post', value=0)\n",
        "    X_glove = pad_sequences(X_glove, maxlen=max_len, padding='post', value=0)\n",
        "    y = pad_sequences(y, maxlen=max_len, padding='post', value=0)\n",
        "\n",
        "    return np.array(X_bert), np.array(X_glove), np.array(y), attention_masks\n",
        "\n",
        "# Building Vocabulary for GloVe embeddings\n",
        "word_counts = defaultdict(int)\n",
        "tags = set()\n",
        "\n",
        "# Collecting word frequencies and tag set from the training data\n",
        "for sentence in train_data:\n",
        "    for word, tag in sentence:\n",
        "        word_counts[word.lower()] += 1\n",
        "        tags.add(tag)\n",
        "\n",
        "# Create vocab: maps each word to an index\n",
        "vocab = {word: idx + 1 for idx, word in enumerate(word_counts.keys())}\n",
        "vocab['<PAD>'] = 0  # Adding padding token\n",
        "index_to_word = {idx: word for word, idx in vocab.items()}\n",
        "\n",
        "# Create tag_to_index mapping for tags (used as target labels)\n",
        "tag_to_index = {tag: idx + 1 for idx, tag in enumerate(sorted(tags))}\n",
        "tag_to_index['O'] = 0  # Default tag for outside entities\n",
        "\n",
        "# Initialize BERT tokenizer\n",
        "bert_tokenizer = BertTokenizer.from_pretrained(\"bert-base-uncased\")\n",
        "\n",
        "# MAX_LEN is given as the length of the longest sentence in the train data\n",
        "MAX_LEN = max([len(sentence) for sentence in train_data])\n",
        "\n",
        "# Data preparation\n",
        "X_train_bert, X_train_glove, y_train, X_train_attention_mask = prepare_data(train_data, vocab, bert_tokenizer, MAX_LEN)\n",
        "X_test_bert, X_test_glove, y_test, X_test_attention_mask = prepare_data(test_data, vocab, bert_tokenizer, MAX_LEN)\n",
        "\n",
        "print(\"BERT Input Shape: \", X_train_bert.shape)\n",
        "print(\"Attention Mask Shape: \", X_train_attention_mask.shape)\n",
        "print(\"GloVe Input Shape: \", X_train_glove.shape)\n",
        "print(\"Tag Output Shape: \", y_train.shape)\n"
      ],
      "metadata": {
        "id": "McjnEi-1r5qr",
        "outputId": "c2e33fdb-e93a-49f4-85c7-134a6aa4252d",
        "colab": {
          "base_uri": "https://localhost:8080/"
        }
      },
      "execution_count": 7,
      "outputs": [
        {
          "output_type": "stream",
          "name": "stdout",
          "text": [
            "BERT Input Shape:  (39832, 141)\n",
            "Attention Mask Shape:  (39832, 141)\n",
            "GloVe Input Shape:  (39832, 141)\n",
            "Tag Output Shape:  (39832, 141)\n"
          ]
        }
      ]
    },
    {
      "cell_type": "code",
      "source": [
        "# Load GloVe Embeddings\n",
        "def load_glove_embeddings(glove_path, vocab, embedding_dim=100):\n",
        "    embeddings_index = {}\n",
        "    with open(glove_path, encoding=\"utf-8\") as f:\n",
        "        for line in f:\n",
        "            values = line.split()\n",
        "            word = values[0]\n",
        "            coeffs = np.asarray(values[1:], dtype='float32')\n",
        "            embeddings_index[word] = coeffs\n",
        "\n",
        "    embedding_matrix = np.zeros((len(vocab), embedding_dim))\n",
        "    for word, i in vocab.items():\n",
        "        embedding_vector = embeddings_index.get(word)\n",
        "        if embedding_vector is not None:\n",
        "            embedding_matrix[i] = embedding_vector\n",
        "    return embedding_matrix\n",
        "\n",
        "GLOVE_PATH = \"/content/glove.6B.100d.txt\"\n",
        "embedding_matrix = load_glove_embeddings(GLOVE_PATH, vocab, embedding_dim=100)\n",
        "\n"
      ],
      "metadata": {
        "id": "khF-Z10Rr-AJ"
      },
      "execution_count": 8,
      "outputs": []
    },
    {
      "cell_type": "code",
      "source": [
        "def build_bert_model(max_len, num_tags):\n",
        "    bert_model = TFBertModel.from_pretrained(\"bert-base-uncased\")\n",
        "\n",
        "    # Inputs\n",
        "    input_word_ids = tf.keras.layers.Input(shape=(max_len,), dtype=tf.int32, name=\"input_ids\")\n",
        "    input_attention_mask = tf.keras.layers.Input(shape=(max_len,), dtype=tf.int32, name=\"attention_mask\")\n",
        "\n",
        "    # Get BERT output and specify output shape for the Lambda layer\n",
        "    bert_output = tf.keras.layers.Lambda(\n",
        "        lambda x: bert_model(x[0], attention_mask=x[1]).last_hidden_state,\n",
        "        output_shape=(max_len, bert_model.config.hidden_size)\n",
        "    )([input_word_ids, input_attention_mask])\n",
        "\n",
        "    # LSTM layer\n",
        "    lstm = Bidirectional(LSTM(units=100, return_sequences=True, dropout=0.2, recurrent_dropout=0.2))(bert_output)\n",
        "    out = TimeDistributed(Dense(num_tags, activation=\"softmax\"))(lstm)\n",
        "\n",
        "    # Model construction\n",
        "    model = tf.keras.Model(inputs=[input_word_ids, input_attention_mask], outputs=out)\n",
        "    model.compile(optimizer=\"adam\", loss=\"sparse_categorical_crossentropy\", metrics=[\"accuracy\"])\n",
        "\n",
        "    return model\n",
        "\n",
        "def build_glove_model(max_len, num_tags, embedding_matrix, embedding_dim=100):\n",
        "    input_layer = tf.keras.layers.Input(shape=(max_len,))\n",
        "    embedding_layer = Embedding(input_dim=len(vocab), output_dim=embedding_dim, weights=[embedding_matrix], input_length=max_len, trainable=False)(input_layer)\n",
        "    lstm = Bidirectional(LSTM(units=100, return_sequences=True, dropout=0.2, recurrent_dropout=0.2))(embedding_layer)\n",
        "    out = TimeDistributed(Dense(num_tags, activation=\"softmax\"))(lstm)\n",
        "    model = tf.keras.Model(inputs=input_layer, outputs=out)\n",
        "    model.compile(optimizer=\"adam\", loss=\"sparse_categorical_crossentropy\", metrics=[\"accuracy\"])\n",
        "    return model\n"
      ],
      "metadata": {
        "id": "ScbjZi47sDGE"
      },
      "execution_count": 34,
      "outputs": []
    },
    {
      "cell_type": "code",
      "source": [
        "# Create Models\n",
        "model_bert = build_bert_model(MAX_LEN, len(tag_to_index))\n",
        "model_glove = build_glove_model(MAX_LEN, len(tag_to_index), embedding_matrix)\n",
        "model_bert.summary()\n",
        "model_glove.summary()\n",
        "\n",
        "# Define EarlyStopping\n",
        "early_stopping = EarlyStopping(monitor='val_loss', patience=3, restore_best_weights=True)\n",
        "\n",
        "# Evaluate Models\n",
        "def evaluate_model(model, X_test, y_test):\n",
        "    loss, accuracy = model.evaluate(X_test, y_test)\n",
        "    print(f\"Test Accuracy: {accuracy:.4f}\")\n",
        "\n",
        "# Train Models\n",
        "model_bert.fit([X_train_bert, X_train_attention_mask], y_train, batch_size=32, epochs=1, validation_split=0.2, callbacks=[early_stopping])\n",
        "model_bert.save('/content/drive/MyDrive/POS_Tagging/model_bert_epoch_1.keras')\n",
        "\n",
        "# evaluate_model(model_bert, [X_test_bert, X_test_attention_mask], y_test)"
      ],
      "metadata": {
        "id": "nN4oC2gesJBw",
        "outputId": "3bef73ac-0335-4431-98f1-f72e7183c951",
        "colab": {
          "base_uri": "https://localhost:8080/",
          "height": 758
        }
      },
      "execution_count": 35,
      "outputs": [
        {
          "output_type": "stream",
          "name": "stderr",
          "text": [
            "Some weights of the PyTorch model were not used when initializing the TF 2.0 model TFBertModel: ['cls.predictions.transform.dense.bias', 'cls.seq_relationship.weight', 'cls.predictions.transform.LayerNorm.bias', 'cls.predictions.transform.LayerNorm.weight', 'cls.predictions.transform.dense.weight', 'cls.seq_relationship.bias', 'cls.predictions.bias']\n",
            "- This IS expected if you are initializing TFBertModel from a PyTorch model trained on another task or with another architecture (e.g. initializing a TFBertForSequenceClassification model from a BertForPreTraining model).\n",
            "- This IS NOT expected if you are initializing TFBertModel from a PyTorch model that you expect to be exactly identical (e.g. initializing a TFBertForSequenceClassification model from a BertForSequenceClassification model).\n",
            "All the weights of TFBertModel were initialized from the PyTorch model.\n",
            "If your task is similar to the task the model of the checkpoint was trained on, you can already use TFBertModel for predictions without further training.\n",
            "/usr/local/lib/python3.11/dist-packages/keras/src/layers/core/embedding.py:90: UserWarning: Argument `input_length` is deprecated. Just remove it.\n",
            "  warnings.warn(\n"
          ]
        },
        {
          "output_type": "display_data",
          "data": {
            "text/plain": [
              "\u001b[1mModel: \"functional_2\"\u001b[0m\n"
            ],
            "text/html": [
              "<pre style=\"white-space:pre;overflow-x:auto;line-height:normal;font-family:Menlo,'DejaVu Sans Mono',consolas,'Courier New',monospace\"><span style=\"font-weight: bold\">Model: \"functional_2\"</span>\n",
              "</pre>\n"
            ]
          },
          "metadata": {}
        },
        {
          "output_type": "display_data",
          "data": {
            "text/plain": [
              "┏━━━━━━━━━━━━━━━━━━━━━━━━━━━┳━━━━━━━━━━━━━━━━━━━━━━━━┳━━━━━━━━━━━━━━━━┳━━━━━━━━━━━━━━━━━━━━━━━━┓\n",
              "┃\u001b[1m \u001b[0m\u001b[1mLayer (type)             \u001b[0m\u001b[1m \u001b[0m┃\u001b[1m \u001b[0m\u001b[1mOutput Shape          \u001b[0m\u001b[1m \u001b[0m┃\u001b[1m \u001b[0m\u001b[1m       Param #\u001b[0m\u001b[1m \u001b[0m┃\u001b[1m \u001b[0m\u001b[1mConnected to          \u001b[0m\u001b[1m \u001b[0m┃\n",
              "┡━━━━━━━━━━━━━━━━━━━━━━━━━━━╇━━━━━━━━━━━━━━━━━━━━━━━━╇━━━━━━━━━━━━━━━━╇━━━━━━━━━━━━━━━━━━━━━━━━┩\n",
              "│ input_ids (\u001b[38;5;33mInputLayer\u001b[0m)    │ (\u001b[38;5;45mNone\u001b[0m, \u001b[38;5;34m141\u001b[0m)            │              \u001b[38;5;34m0\u001b[0m │ -                      │\n",
              "├───────────────────────────┼────────────────────────┼────────────────┼────────────────────────┤\n",
              "│ attention_mask            │ (\u001b[38;5;45mNone\u001b[0m, \u001b[38;5;34m141\u001b[0m)            │              \u001b[38;5;34m0\u001b[0m │ -                      │\n",
              "│ (\u001b[38;5;33mInputLayer\u001b[0m)              │                        │                │                        │\n",
              "├───────────────────────────┼────────────────────────┼────────────────┼────────────────────────┤\n",
              "│ lambda_1 (\u001b[38;5;33mLambda\u001b[0m)         │ (\u001b[38;5;45mNone\u001b[0m, \u001b[38;5;34m141\u001b[0m, \u001b[38;5;34m768\u001b[0m)       │              \u001b[38;5;34m0\u001b[0m │ input_ids[\u001b[38;5;34m0\u001b[0m][\u001b[38;5;34m0\u001b[0m],       │\n",
              "│                           │                        │                │ attention_mask[\u001b[38;5;34m0\u001b[0m][\u001b[38;5;34m0\u001b[0m]   │\n",
              "├───────────────────────────┼────────────────────────┼────────────────┼────────────────────────┤\n",
              "│ bidirectional_2           │ (\u001b[38;5;45mNone\u001b[0m, \u001b[38;5;34m141\u001b[0m, \u001b[38;5;34m200\u001b[0m)       │        \u001b[38;5;34m695,200\u001b[0m │ lambda_1[\u001b[38;5;34m0\u001b[0m][\u001b[38;5;34m0\u001b[0m]         │\n",
              "│ (\u001b[38;5;33mBidirectional\u001b[0m)           │                        │                │                        │\n",
              "├───────────────────────────┼────────────────────────┼────────────────┼────────────────────────┤\n",
              "│ time_distributed_2        │ (\u001b[38;5;45mNone\u001b[0m, \u001b[38;5;34m141\u001b[0m, \u001b[38;5;34m46\u001b[0m)        │          \u001b[38;5;34m9,246\u001b[0m │ bidirectional_2[\u001b[38;5;34m0\u001b[0m][\u001b[38;5;34m0\u001b[0m]  │\n",
              "│ (\u001b[38;5;33mTimeDistributed\u001b[0m)         │                        │                │                        │\n",
              "└───────────────────────────┴────────────────────────┴────────────────┴────────────────────────┘\n"
            ],
            "text/html": [
              "<pre style=\"white-space:pre;overflow-x:auto;line-height:normal;font-family:Menlo,'DejaVu Sans Mono',consolas,'Courier New',monospace\">┏━━━━━━━━━━━━━━━━━━━━━━━━━━━┳━━━━━━━━━━━━━━━━━━━━━━━━┳━━━━━━━━━━━━━━━━┳━━━━━━━━━━━━━━━━━━━━━━━━┓\n",
              "┃<span style=\"font-weight: bold\"> Layer (type)              </span>┃<span style=\"font-weight: bold\"> Output Shape           </span>┃<span style=\"font-weight: bold\">        Param # </span>┃<span style=\"font-weight: bold\"> Connected to           </span>┃\n",
              "┡━━━━━━━━━━━━━━━━━━━━━━━━━━━╇━━━━━━━━━━━━━━━━━━━━━━━━╇━━━━━━━━━━━━━━━━╇━━━━━━━━━━━━━━━━━━━━━━━━┩\n",
              "│ input_ids (<span style=\"color: #0087ff; text-decoration-color: #0087ff\">InputLayer</span>)    │ (<span style=\"color: #00d7ff; text-decoration-color: #00d7ff\">None</span>, <span style=\"color: #00af00; text-decoration-color: #00af00\">141</span>)            │              <span style=\"color: #00af00; text-decoration-color: #00af00\">0</span> │ -                      │\n",
              "├───────────────────────────┼────────────────────────┼────────────────┼────────────────────────┤\n",
              "│ attention_mask            │ (<span style=\"color: #00d7ff; text-decoration-color: #00d7ff\">None</span>, <span style=\"color: #00af00; text-decoration-color: #00af00\">141</span>)            │              <span style=\"color: #00af00; text-decoration-color: #00af00\">0</span> │ -                      │\n",
              "│ (<span style=\"color: #0087ff; text-decoration-color: #0087ff\">InputLayer</span>)              │                        │                │                        │\n",
              "├───────────────────────────┼────────────────────────┼────────────────┼────────────────────────┤\n",
              "│ lambda_1 (<span style=\"color: #0087ff; text-decoration-color: #0087ff\">Lambda</span>)         │ (<span style=\"color: #00d7ff; text-decoration-color: #00d7ff\">None</span>, <span style=\"color: #00af00; text-decoration-color: #00af00\">141</span>, <span style=\"color: #00af00; text-decoration-color: #00af00\">768</span>)       │              <span style=\"color: #00af00; text-decoration-color: #00af00\">0</span> │ input_ids[<span style=\"color: #00af00; text-decoration-color: #00af00\">0</span>][<span style=\"color: #00af00; text-decoration-color: #00af00\">0</span>],       │\n",
              "│                           │                        │                │ attention_mask[<span style=\"color: #00af00; text-decoration-color: #00af00\">0</span>][<span style=\"color: #00af00; text-decoration-color: #00af00\">0</span>]   │\n",
              "├───────────────────────────┼────────────────────────┼────────────────┼────────────────────────┤\n",
              "│ bidirectional_2           │ (<span style=\"color: #00d7ff; text-decoration-color: #00d7ff\">None</span>, <span style=\"color: #00af00; text-decoration-color: #00af00\">141</span>, <span style=\"color: #00af00; text-decoration-color: #00af00\">200</span>)       │        <span style=\"color: #00af00; text-decoration-color: #00af00\">695,200</span> │ lambda_1[<span style=\"color: #00af00; text-decoration-color: #00af00\">0</span>][<span style=\"color: #00af00; text-decoration-color: #00af00\">0</span>]         │\n",
              "│ (<span style=\"color: #0087ff; text-decoration-color: #0087ff\">Bidirectional</span>)           │                        │                │                        │\n",
              "├───────────────────────────┼────────────────────────┼────────────────┼────────────────────────┤\n",
              "│ time_distributed_2        │ (<span style=\"color: #00d7ff; text-decoration-color: #00d7ff\">None</span>, <span style=\"color: #00af00; text-decoration-color: #00af00\">141</span>, <span style=\"color: #00af00; text-decoration-color: #00af00\">46</span>)        │          <span style=\"color: #00af00; text-decoration-color: #00af00\">9,246</span> │ bidirectional_2[<span style=\"color: #00af00; text-decoration-color: #00af00\">0</span>][<span style=\"color: #00af00; text-decoration-color: #00af00\">0</span>]  │\n",
              "│ (<span style=\"color: #0087ff; text-decoration-color: #0087ff\">TimeDistributed</span>)         │                        │                │                        │\n",
              "└───────────────────────────┴────────────────────────┴────────────────┴────────────────────────┘\n",
              "</pre>\n"
            ]
          },
          "metadata": {}
        },
        {
          "output_type": "display_data",
          "data": {
            "text/plain": [
              "\u001b[1m Total params: \u001b[0m\u001b[38;5;34m704,446\u001b[0m (2.69 MB)\n"
            ],
            "text/html": [
              "<pre style=\"white-space:pre;overflow-x:auto;line-height:normal;font-family:Menlo,'DejaVu Sans Mono',consolas,'Courier New',monospace\"><span style=\"font-weight: bold\"> Total params: </span><span style=\"color: #00af00; text-decoration-color: #00af00\">704,446</span> (2.69 MB)\n",
              "</pre>\n"
            ]
          },
          "metadata": {}
        },
        {
          "output_type": "display_data",
          "data": {
            "text/plain": [
              "\u001b[1m Trainable params: \u001b[0m\u001b[38;5;34m704,446\u001b[0m (2.69 MB)\n"
            ],
            "text/html": [
              "<pre style=\"white-space:pre;overflow-x:auto;line-height:normal;font-family:Menlo,'DejaVu Sans Mono',consolas,'Courier New',monospace\"><span style=\"font-weight: bold\"> Trainable params: </span><span style=\"color: #00af00; text-decoration-color: #00af00\">704,446</span> (2.69 MB)\n",
              "</pre>\n"
            ]
          },
          "metadata": {}
        },
        {
          "output_type": "display_data",
          "data": {
            "text/plain": [
              "\u001b[1m Non-trainable params: \u001b[0m\u001b[38;5;34m0\u001b[0m (0.00 B)\n"
            ],
            "text/html": [
              "<pre style=\"white-space:pre;overflow-x:auto;line-height:normal;font-family:Menlo,'DejaVu Sans Mono',consolas,'Courier New',monospace\"><span style=\"font-weight: bold\"> Non-trainable params: </span><span style=\"color: #00af00; text-decoration-color: #00af00\">0</span> (0.00 B)\n",
              "</pre>\n"
            ]
          },
          "metadata": {}
        },
        {
          "output_type": "display_data",
          "data": {
            "text/plain": [
              "\u001b[1mModel: \"functional_3\"\u001b[0m\n"
            ],
            "text/html": [
              "<pre style=\"white-space:pre;overflow-x:auto;line-height:normal;font-family:Menlo,'DejaVu Sans Mono',consolas,'Courier New',monospace\"><span style=\"font-weight: bold\">Model: \"functional_3\"</span>\n",
              "</pre>\n"
            ]
          },
          "metadata": {}
        },
        {
          "output_type": "display_data",
          "data": {
            "text/plain": [
              "┏━━━━━━━━━━━━━━━━━━━━━━━━━━━━━━━━━━━━━━┳━━━━━━━━━━━━━━━━━━━━━━━━━━━━━┳━━━━━━━━━━━━━━━━━┓\n",
              "┃\u001b[1m \u001b[0m\u001b[1mLayer (type)                        \u001b[0m\u001b[1m \u001b[0m┃\u001b[1m \u001b[0m\u001b[1mOutput Shape               \u001b[0m\u001b[1m \u001b[0m┃\u001b[1m \u001b[0m\u001b[1m        Param #\u001b[0m\u001b[1m \u001b[0m┃\n",
              "┡━━━━━━━━━━━━━━━━━━━━━━━━━━━━━━━━━━━━━━╇━━━━━━━━━━━━━━━━━━━━━━━━━━━━━╇━━━━━━━━━━━━━━━━━┩\n",
              "│ input_layer_1 (\u001b[38;5;33mInputLayer\u001b[0m)           │ (\u001b[38;5;45mNone\u001b[0m, \u001b[38;5;34m141\u001b[0m)                 │               \u001b[38;5;34m0\u001b[0m │\n",
              "├──────────────────────────────────────┼─────────────────────────────┼─────────────────┤\n",
              "│ embedding_1 (\u001b[38;5;33mEmbedding\u001b[0m)              │ (\u001b[38;5;45mNone\u001b[0m, \u001b[38;5;34m141\u001b[0m, \u001b[38;5;34m100\u001b[0m)            │       \u001b[38;5;34m3,954,800\u001b[0m │\n",
              "├──────────────────────────────────────┼─────────────────────────────┼─────────────────┤\n",
              "│ bidirectional_3 (\u001b[38;5;33mBidirectional\u001b[0m)      │ (\u001b[38;5;45mNone\u001b[0m, \u001b[38;5;34m141\u001b[0m, \u001b[38;5;34m200\u001b[0m)            │         \u001b[38;5;34m160,800\u001b[0m │\n",
              "├──────────────────────────────────────┼─────────────────────────────┼─────────────────┤\n",
              "│ time_distributed_3 (\u001b[38;5;33mTimeDistributed\u001b[0m) │ (\u001b[38;5;45mNone\u001b[0m, \u001b[38;5;34m141\u001b[0m, \u001b[38;5;34m46\u001b[0m)             │           \u001b[38;5;34m9,246\u001b[0m │\n",
              "└──────────────────────────────────────┴─────────────────────────────┴─────────────────┘\n"
            ],
            "text/html": [
              "<pre style=\"white-space:pre;overflow-x:auto;line-height:normal;font-family:Menlo,'DejaVu Sans Mono',consolas,'Courier New',monospace\">┏━━━━━━━━━━━━━━━━━━━━━━━━━━━━━━━━━━━━━━┳━━━━━━━━━━━━━━━━━━━━━━━━━━━━━┳━━━━━━━━━━━━━━━━━┓\n",
              "┃<span style=\"font-weight: bold\"> Layer (type)                         </span>┃<span style=\"font-weight: bold\"> Output Shape                </span>┃<span style=\"font-weight: bold\">         Param # </span>┃\n",
              "┡━━━━━━━━━━━━━━━━━━━━━━━━━━━━━━━━━━━━━━╇━━━━━━━━━━━━━━━━━━━━━━━━━━━━━╇━━━━━━━━━━━━━━━━━┩\n",
              "│ input_layer_1 (<span style=\"color: #0087ff; text-decoration-color: #0087ff\">InputLayer</span>)           │ (<span style=\"color: #00d7ff; text-decoration-color: #00d7ff\">None</span>, <span style=\"color: #00af00; text-decoration-color: #00af00\">141</span>)                 │               <span style=\"color: #00af00; text-decoration-color: #00af00\">0</span> │\n",
              "├──────────────────────────────────────┼─────────────────────────────┼─────────────────┤\n",
              "│ embedding_1 (<span style=\"color: #0087ff; text-decoration-color: #0087ff\">Embedding</span>)              │ (<span style=\"color: #00d7ff; text-decoration-color: #00d7ff\">None</span>, <span style=\"color: #00af00; text-decoration-color: #00af00\">141</span>, <span style=\"color: #00af00; text-decoration-color: #00af00\">100</span>)            │       <span style=\"color: #00af00; text-decoration-color: #00af00\">3,954,800</span> │\n",
              "├──────────────────────────────────────┼─────────────────────────────┼─────────────────┤\n",
              "│ bidirectional_3 (<span style=\"color: #0087ff; text-decoration-color: #0087ff\">Bidirectional</span>)      │ (<span style=\"color: #00d7ff; text-decoration-color: #00d7ff\">None</span>, <span style=\"color: #00af00; text-decoration-color: #00af00\">141</span>, <span style=\"color: #00af00; text-decoration-color: #00af00\">200</span>)            │         <span style=\"color: #00af00; text-decoration-color: #00af00\">160,800</span> │\n",
              "├──────────────────────────────────────┼─────────────────────────────┼─────────────────┤\n",
              "│ time_distributed_3 (<span style=\"color: #0087ff; text-decoration-color: #0087ff\">TimeDistributed</span>) │ (<span style=\"color: #00d7ff; text-decoration-color: #00d7ff\">None</span>, <span style=\"color: #00af00; text-decoration-color: #00af00\">141</span>, <span style=\"color: #00af00; text-decoration-color: #00af00\">46</span>)             │           <span style=\"color: #00af00; text-decoration-color: #00af00\">9,246</span> │\n",
              "└──────────────────────────────────────┴─────────────────────────────┴─────────────────┘\n",
              "</pre>\n"
            ]
          },
          "metadata": {}
        },
        {
          "output_type": "display_data",
          "data": {
            "text/plain": [
              "\u001b[1m Total params: \u001b[0m\u001b[38;5;34m4,124,846\u001b[0m (15.74 MB)\n"
            ],
            "text/html": [
              "<pre style=\"white-space:pre;overflow-x:auto;line-height:normal;font-family:Menlo,'DejaVu Sans Mono',consolas,'Courier New',monospace\"><span style=\"font-weight: bold\"> Total params: </span><span style=\"color: #00af00; text-decoration-color: #00af00\">4,124,846</span> (15.74 MB)\n",
              "</pre>\n"
            ]
          },
          "metadata": {}
        },
        {
          "output_type": "display_data",
          "data": {
            "text/plain": [
              "\u001b[1m Trainable params: \u001b[0m\u001b[38;5;34m170,046\u001b[0m (664.24 KB)\n"
            ],
            "text/html": [
              "<pre style=\"white-space:pre;overflow-x:auto;line-height:normal;font-family:Menlo,'DejaVu Sans Mono',consolas,'Courier New',monospace\"><span style=\"font-weight: bold\"> Trainable params: </span><span style=\"color: #00af00; text-decoration-color: #00af00\">170,046</span> (664.24 KB)\n",
              "</pre>\n"
            ]
          },
          "metadata": {}
        },
        {
          "output_type": "display_data",
          "data": {
            "text/plain": [
              "\u001b[1m Non-trainable params: \u001b[0m\u001b[38;5;34m3,954,800\u001b[0m (15.09 MB)\n"
            ],
            "text/html": [
              "<pre style=\"white-space:pre;overflow-x:auto;line-height:normal;font-family:Menlo,'DejaVu Sans Mono',consolas,'Courier New',monospace\"><span style=\"font-weight: bold\"> Non-trainable params: </span><span style=\"color: #00af00; text-decoration-color: #00af00\">3,954,800</span> (15.09 MB)\n",
              "</pre>\n"
            ]
          },
          "metadata": {}
        },
        {
          "output_type": "stream",
          "name": "stdout",
          "text": [
            "\u001b[1m996/996\u001b[0m \u001b[32m━━━━━━━━━━━━━━━━━━━━\u001b[0m\u001b[37m\u001b[0m \u001b[1m1234s\u001b[0m 1s/step - accuracy: 0.8508 - loss: 0.5895 - val_accuracy: 0.8825 - val_loss: 0.3933\n"
          ]
        }
      ]
    },
    {
      "cell_type": "code",
      "source": [
        "model_glove.fit(X_train_glove, y_train, batch_size=32, epochs=1, validation_split=0.2, callbacks=[early_stopping])\n",
        "\n",
        "# Save Models\n",
        "model_glove.save('/content/drive/MyDrive/POS_Tagging/model_glove_epoch_1.keras')\n",
        "\n",
        "evaluate_model(model_glove, X_test_glove, y_test)"
      ],
      "metadata": {
        "id": "rNW4hVL_ZDCr",
        "outputId": "c83f42e4-5acf-4acc-e5f6-88d56e120976",
        "colab": {
          "base_uri": "https://localhost:8080/"
        }
      },
      "execution_count": 11,
      "outputs": [
        {
          "output_type": "stream",
          "name": "stdout",
          "text": [
            "\u001b[1m996/996\u001b[0m \u001b[32m━━━━━━━━━━━━━━━━━━━━\u001b[0m\u001b[37m\u001b[0m \u001b[1m802s\u001b[0m 788ms/step - accuracy: 0.9177 - loss: 0.4931 - val_accuracy: 0.9710 - val_loss: 0.0964\n",
            "\u001b[1m43/43\u001b[0m \u001b[32m━━━━━━━━━━━━━━━━━━━━\u001b[0m\u001b[37m\u001b[0m \u001b[1m6s\u001b[0m 146ms/step - accuracy: 0.9675 - loss: 0.1107\n",
            "Test Accuracy: 0.9670\n"
          ]
        }
      ]
    },
    {
      "cell_type": "code",
      "source": [
        "tf.keras.config.enable_unsafe_deserialization()\n",
        "\n",
        "# Now try loading the model again\n",
        "model_bert = tf.keras.models.load_model('/content/drive/MyDrive/POS_Tagging/model_bert_epoch_1.keras')"
      ],
      "metadata": {
        "id": "kMarcJ-RhZKl"
      },
      "execution_count": 16,
      "outputs": []
    },
    {
      "cell_type": "code",
      "source": [
        "def invert_dict(d):\n",
        "    \"\"\"Inverts the keys and values of a dictionary.\"\"\"\n",
        "    return {v: k for k, v in d.items()}\n",
        "index_to_tag = invert_dict(tag_to_index)"
      ],
      "metadata": {
        "id": "DStmVPhrnFy1"
      },
      "execution_count": 29,
      "outputs": []
    },
    {
      "cell_type": "code",
      "source": [
        "from sklearn.metrics import classification_report\n",
        "\n",
        "# Function to evaluate the model and generate metrics\n",
        "def evaluate_model(model, X_test, y_test, model_name=\"Model\"):\n",
        "    print(f\"Evaluating {model_name}...\")\n",
        "\n",
        "    # Evaluate the model on the test data\n",
        "    loss, accuracy = model.evaluate(X_test, y_test, verbose=0)\n",
        "    print(f\"{model_name} - Test Loss: {loss:.4f}\")\n",
        "    print(f\"{model_name} - Test Accuracy: {accuracy:.4f}\")\n",
        "\n",
        "    # Get predictions\n",
        "    predictions = model.predict(X_test)\n",
        "\n",
        "    # Get the predicted class labels (as indices)\n",
        "    predicted_tags = tf.math.argmax(predictions, axis=-1)\n",
        "\n",
        "    # Flatten the predictions and true labels for comparison\n",
        "    y_true = y_test.flatten()\n",
        "    y_pred = predicted_tags.numpy().flatten()\n",
        "\n",
        "    # Classification report (Precision, Recall, F1-score)\n",
        "    print(f\"\\nClassification Report for {model_name}:\")\n",
        "    print(classification_report(y_true, y_pred, target_names=index_to_tag.values()))\n",
        "\n",
        "# Evaluate GloVe model\n",
        "evaluate_model(model_glove, X_test_glove, y_test, model_name=\"GloVe\")\n"
      ],
      "metadata": {
        "id": "6sLQSXlmo1NS",
        "outputId": "0011a7f7-c753-4154-d48e-5e10cb8d727d",
        "colab": {
          "base_uri": "https://localhost:8080/"
        }
      },
      "execution_count": 30,
      "outputs": [
        {
          "output_type": "stream",
          "name": "stdout",
          "text": [
            "Evaluating GloVe...\n",
            "GloVe - Test Loss: 0.1112\n",
            "GloVe - Test Accuracy: 0.9670\n",
            "\u001b[1m43/43\u001b[0m \u001b[32m━━━━━━━━━━━━━━━━━━━━\u001b[0m\u001b[37m\u001b[0m \u001b[1m7s\u001b[0m 158ms/step\n",
            "\n",
            "Classification Report for GloVe:\n",
            "              precision    recall  f1-score   support\n",
            "\n",
            "           #       1.00      1.00      1.00    156933\n",
            "           $       0.00      0.00      0.00         3\n",
            "          ''       0.81      0.79      0.80       216\n",
            "           (       0.72      0.32      0.44       247\n",
            "           )       0.00      0.00      0.00        54\n",
            "           ,       0.00      0.00      0.00        53\n",
            "           .       0.49      0.87      0.62      1671\n",
            "           :       0.92      0.98      0.95      1337\n",
            "          CC       0.00      0.00      0.00       221\n",
            "          CD       1.00      0.94      0.97       877\n",
            "          DT       0.59      0.85      0.70      1054\n",
            "          EX       0.98      0.98      0.98      2856\n",
            "          FW       0.92      0.97      0.95        37\n",
            "          IN       0.00      0.00      0.00         8\n",
            "          JJ       0.89      0.85      0.87      3612\n",
            "         JJR       0.68      0.76      0.72      2036\n",
            "         JJS       0.62      0.74      0.68        93\n",
            "          LS       0.85      0.21      0.33        53\n",
            "          MD       0.00      0.00      0.00         5\n",
            "          NN       0.97      0.98      0.97       339\n",
            "         NNP       0.81      0.84      0.83      4541\n",
            "        NNPS       0.82      0.64      0.72      3216\n",
            "         NNS       0.00      0.00      0.00       127\n",
            "         PDT       0.86      0.87      0.87      2050\n",
            "         POS       0.00      0.00      0.00        22\n",
            "         PRP       0.55      0.31      0.40       299\n",
            "        PRP$       0.96      0.96      0.96       538\n",
            "          RB       0.95      1.00      0.97       271\n",
            "         RBR       0.76      0.71      0.73      1044\n",
            "         RBS       0.75      0.06      0.10        54\n",
            "          RP       1.00      0.30      0.46        20\n",
            "         SYM       0.54      0.85      0.66        87\n",
            "          TO       0.00      0.00      0.00        10\n",
            "          UH       1.00      1.00      1.00       805\n",
            "          VB       0.00      0.00      0.00         4\n",
            "         VBD       0.88      0.87      0.88      1010\n",
            "         VBG       0.89      0.84      0.86      1020\n",
            "         VBN       0.79      0.64      0.70       528\n",
            "         VBP       0.78      0.67      0.72       758\n",
            "         VBZ       0.87      0.77      0.81       422\n",
            "         WDT       0.94      0.86      0.90       701\n",
            "          WP       0.95      0.75      0.84       123\n",
            "         WP$       0.88      0.96      0.91        90\n",
            "         WRB       0.00      0.00      0.00         7\n",
            "          ``       0.98      0.72      0.83        83\n",
            "           O       0.44      0.33      0.38       251\n",
            "\n",
            "    accuracy                           0.97    189786\n",
            "   macro avg       0.63      0.57      0.58    189786\n",
            "weighted avg       0.97      0.97      0.97    189786\n",
            "\n"
          ]
        },
        {
          "output_type": "stream",
          "name": "stderr",
          "text": [
            "/usr/local/lib/python3.11/dist-packages/sklearn/metrics/_classification.py:1565: UndefinedMetricWarning: Precision is ill-defined and being set to 0.0 in labels with no predicted samples. Use `zero_division` parameter to control this behavior.\n",
            "  _warn_prf(average, modifier, f\"{metric.capitalize()} is\", len(result))\n",
            "/usr/local/lib/python3.11/dist-packages/sklearn/metrics/_classification.py:1565: UndefinedMetricWarning: Precision is ill-defined and being set to 0.0 in labels with no predicted samples. Use `zero_division` parameter to control this behavior.\n",
            "  _warn_prf(average, modifier, f\"{metric.capitalize()} is\", len(result))\n",
            "/usr/local/lib/python3.11/dist-packages/sklearn/metrics/_classification.py:1565: UndefinedMetricWarning: Precision is ill-defined and being set to 0.0 in labels with no predicted samples. Use `zero_division` parameter to control this behavior.\n",
            "  _warn_prf(average, modifier, f\"{metric.capitalize()} is\", len(result))\n"
          ]
        }
      ]
    },
    {
      "cell_type": "code",
      "source": [
        "def evaluate_model_bert(model, X_test, attention_mask, y_test, model_name=\"BERT\"):\n",
        "    \"\"\"Evaluate the model and print results.\"\"\"\n",
        "    loss, accuracy = model.evaluate([X_test, attention_mask], y_test, verbose=0)\n",
        "    print(f\"{model_name} - Test Loss: {loss:.4f}\")\n",
        "    print(f\"{model_name} - Test Accuracy: {accuracy:.4f}\")\n",
        "\n",
        "# Now evaluate the BERT model\n",
        "evaluate_model_bert(model_bert, X_test_bert, X_test_attention_mask, y_test, model_name=\"BERT\")\n"
      ],
      "metadata": {
        "id": "NGIzcm6FlBz0",
        "outputId": "56f34b91-aa52-4f2e-90f0-c46bd0015cf3",
        "colab": {
          "base_uri": "https://localhost:8080/"
        }
      },
      "execution_count": 39,
      "outputs": [
        {
          "output_type": "stream",
          "name": "stdout",
          "text": [
            "BERT - Test Loss: 0.4019\n",
            "BERT - Test Accuracy: 0.8806\n"
          ]
        }
      ]
    },
    {
      "cell_type": "markdown",
      "source": [
        "Here's a well-structured report summarizing the performance comparison between the GloVe and BERT models based on the provided test results:\n",
        "\n",
        "---\n",
        "\n",
        "## **Model Performance Report: GloVe vs BERT for POS Tagging**\n",
        "\n",
        "### **Objective:**\n",
        "The objective of this evaluation is to compare the performance of two models — the **GloVe** and **BERT** models — on the task of **Part-of-Speech (POS) tagging**. Both models were trained and evaluated on the same test data, and their performance was measured in terms of **Test Loss** and **Test Accuracy**.\n",
        "\n",
        "### **Test Results:**\n",
        "\n",
        "#### **1. GloVe Model**\n",
        "- **Test Loss**: 0.1112\n",
        "- **Test Accuracy**: 96.70%\n",
        "\n",
        "The GloVe-based model performed well on the POS tagging task, achieving a relatively low loss of **0.1112** and a high test accuracy of **96.70%**. This suggests that the GloVe embeddings, even though pretrained and relatively simpler than BERT, were highly effective for this task and demonstrated strong generalization to unseen data.\n",
        "\n",
        "#### **2. BERT Model**\n",
        "- **Test Loss**: 0.4019\n",
        "- **Test Accuracy**: 88.06%\n",
        "\n",
        "The BERT-based model, which uses contextualized word embeddings, achieved a **Test Loss** of **0.4019** and a **Test Accuracy** of **88.06%**. While the performance is competitive, it is lower than the GloVe model. The higher loss and relatively lower accuracy could be attributed to the increased complexity of BERT’s architecture, which may require more fine-tuning to achieve optimal performance on this specific task. Additionally, the model's performance could be influenced by factors such as training data size, learning rate, and other hyperparameters.\n",
        "\n",
        "---\n",
        "\n",
        "### **Comparison Analysis:**\n",
        "\n",
        "| **Model** | **Test Loss** | **Test Accuracy** |\n",
        "|-----------|---------------|-------------------|\n",
        "| **GloVe** | 0.1112        | 96.70%            |\n",
        "| **BERT**  | 0.4019        | 88.06%            |\n",
        "\n",
        "- **Test Accuracy**: The **GloVe** model outperforms the **BERT** model in terms of accuracy, achieving a significantly higher score (**96.70%** vs **88.06%**).\n",
        "- **Test Loss**: Similarly, the **GloVe** model has a lower test loss (**0.1112** vs **0.4019**), indicating that it makes fewer mistakes on the test set.\n",
        "  \n",
        "While **BERT** is a more sophisticated model with pre-trained contextual embeddings, the **GloVe** model's simpler, static embeddings seem to work better for this specific POS tagging task. This could be due to overfitting in the BERT model or a mismatch in the fine-tuning process, which can sometimes happen when fine-tuning such a large pre-trained model on relatively smaller datasets or when hyperparameters are not optimized.\n",
        "\n",
        "---\n",
        "\n",
        "### **Conclusion:**\n",
        "\n",
        "- **GloVe Model**: The **GloVe** model has shown superior performance on the test set with high accuracy and low loss, making it an excellent choice for this POS tagging task.\n",
        "- **BERT Model**: While **BERT**'s performance is competitive, its complexity might not always result in a performance boost over simpler models like GloVe, particularly for tasks with smaller datasets or when the hyperparameters are not finely tuned.\n",
        "\n",
        "In conclusion, while **BERT** holds great potential in many NLP tasks, for this specific POS tagging task, the **GloVe** model outperforms BERT in both accuracy and loss. However, further optimization of BERT (such as fine-tuning or additional training data) could help it reach or exceed the performance of GloVe.\n",
        "\n",
        "---\n",
        "\n",
        "This report provides a detailed evaluation and comparison between the two models. Would you like further analysis or suggestions for improving either model?"
      ],
      "metadata": {
        "id": "aGzGq62cukIv"
      }
    },
    {
      "cell_type": "code",
      "source": [],
      "metadata": {
        "id": "DEMdtn8ClI1S"
      },
      "execution_count": null,
      "outputs": []
    }
  ]
}